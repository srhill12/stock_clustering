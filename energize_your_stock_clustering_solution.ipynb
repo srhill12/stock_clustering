{
 "cells": [
  {
   "cell_type": "code",
   "execution_count": 1,
   "metadata": {},
   "outputs": [],
   "source": [
    "# Import the required libraries and dependencies\n",
    "import pandas as pd\n",
    "from sklearn.cluster import KMeans\n",
    "from sklearn.decomposition import PCA\n",
    "from sklearn.preprocessing import StandardScaler"
   ]
  },
  {
   "cell_type": "markdown",
   "metadata": {},
   "source": [
    "### Step 1:  Read in the `stock_data.csv` file and create a DataFrame."
   ]
  },
  {
   "cell_type": "code",
   "execution_count": 2,
   "metadata": {},
   "outputs": [
    {
     "data": {
      "text/html": [
       "<div>\n",
       "<style scoped>\n",
       "    .dataframe tbody tr th:only-of-type {\n",
       "        vertical-align: middle;\n",
       "    }\n",
       "\n",
       "    .dataframe tbody tr th {\n",
       "        vertical-align: top;\n",
       "    }\n",
       "\n",
       "    .dataframe thead th {\n",
       "        text-align: right;\n",
       "    }\n",
       "</style>\n",
       "<table border=\"1\" class=\"dataframe\">\n",
       "  <thead>\n",
       "    <tr style=\"text-align: right;\">\n",
       "      <th></th>\n",
       "      <th>Company_Name</th>\n",
       "      <th>MeanOpen</th>\n",
       "      <th>MeanHigh</th>\n",
       "      <th>MeanLow</th>\n",
       "      <th>MeanClose</th>\n",
       "      <th>MeanVolume</th>\n",
       "      <th>MeanPercentReturn</th>\n",
       "      <th>Sector</th>\n",
       "    </tr>\n",
       "    <tr>\n",
       "      <th>Ticker</th>\n",
       "      <th></th>\n",
       "      <th></th>\n",
       "      <th></th>\n",
       "      <th></th>\n",
       "      <th></th>\n",
       "      <th></th>\n",
       "      <th></th>\n",
       "      <th></th>\n",
       "    </tr>\n",
       "  </thead>\n",
       "  <tbody>\n",
       "    <tr>\n",
       "      <th>AA</th>\n",
       "      <td>Alcoa</td>\n",
       "      <td>16.515833</td>\n",
       "      <td>16.950000</td>\n",
       "      <td>16.039167</td>\n",
       "      <td>16.549167</td>\n",
       "      <td>1.420218e+08</td>\n",
       "      <td>0.181467</td>\n",
       "      <td>Industrials</td>\n",
       "    </tr>\n",
       "    <tr>\n",
       "      <th>AXP</th>\n",
       "      <td>American Express</td>\n",
       "      <td>44.602500</td>\n",
       "      <td>45.683333</td>\n",
       "      <td>43.615833</td>\n",
       "      <td>44.821667</td>\n",
       "      <td>3.849082e+07</td>\n",
       "      <td>0.401822</td>\n",
       "      <td>Financials</td>\n",
       "    </tr>\n",
       "    <tr>\n",
       "      <th>BA</th>\n",
       "      <td>Boeing</td>\n",
       "      <td>70.768333</td>\n",
       "      <td>72.375000</td>\n",
       "      <td>69.235000</td>\n",
       "      <td>71.258333</td>\n",
       "      <td>2.614144e+07</td>\n",
       "      <td>0.589636</td>\n",
       "      <td>Industrials</td>\n",
       "    </tr>\n",
       "    <tr>\n",
       "      <th>BAC</th>\n",
       "      <td>Bank of America</td>\n",
       "      <td>14.302500</td>\n",
       "      <td>14.660000</td>\n",
       "      <td>13.867500</td>\n",
       "      <td>14.270000</td>\n",
       "      <td>8.283930e+08</td>\n",
       "      <td>0.070159</td>\n",
       "      <td>Financials</td>\n",
       "    </tr>\n",
       "    <tr>\n",
       "      <th>CAT</th>\n",
       "      <td>Caterpillar</td>\n",
       "      <td>99.521667</td>\n",
       "      <td>101.933333</td>\n",
       "      <td>97.073333</td>\n",
       "      <td>100.364167</td>\n",
       "      <td>3.093352e+07</td>\n",
       "      <td>0.439549</td>\n",
       "      <td>Industrials</td>\n",
       "    </tr>\n",
       "  </tbody>\n",
       "</table>\n",
       "</div>"
      ],
      "text/plain": [
       "            Company_Name   MeanOpen    MeanHigh    MeanLow   MeanClose  \\\n",
       "Ticker                                                                   \n",
       "AA                Alcoa   16.515833   16.950000  16.039167   16.549167   \n",
       "AXP     American Express  44.602500   45.683333  43.615833   44.821667   \n",
       "BA                Boeing  70.768333   72.375000  69.235000   71.258333   \n",
       "BAC      Bank of America  14.302500   14.660000  13.867500   14.270000   \n",
       "CAT          Caterpillar  99.521667  101.933333  97.073333  100.364167   \n",
       "\n",
       "          MeanVolume  MeanPercentReturn       Sector  \n",
       "Ticker                                                \n",
       "AA      1.420218e+08           0.181467  Industrials  \n",
       "AXP     3.849082e+07           0.401822   Financials  \n",
       "BA      2.614144e+07           0.589636  Industrials  \n",
       "BAC     8.283930e+08           0.070159   Financials  \n",
       "CAT     3.093352e+07           0.439549  Industrials  "
      ]
     },
     "execution_count": 2,
     "metadata": {},
     "output_type": "execute_result"
    }
   ],
   "source": [
    "# Read the CSV file into a Pandas DataFrame\n",
    "# Set the index using the Ticker column\n",
    "df_stocks = pd.read_csv(\"Resources/stock_data.csv\", index_col=\"Ticker\")\n",
    "\n",
    "# Review the DataFrame\n",
    "df_stocks.head()"
   ]
  },
  {
   "cell_type": "code",
   "execution_count": 3,
   "metadata": {},
   "outputs": [
    {
     "data": {
      "text/plain": [
       "(30, 8)"
      ]
     },
     "execution_count": 3,
     "metadata": {},
     "output_type": "execute_result"
    }
   ],
   "source": [
    "# Get the shape of the DataFrame\n",
    "df_stocks.shape"
   ]
  },
  {
   "cell_type": "code",
   "execution_count": 4,
   "metadata": {},
   "outputs": [
    {
     "name": "stdout",
     "output_type": "stream",
     "text": [
      "<class 'pandas.core.frame.DataFrame'>\n",
      "Index: 30 entries, AA to XOM\n",
      "Data columns (total 8 columns):\n",
      " #   Column             Non-Null Count  Dtype  \n",
      "---  ------             --------------  -----  \n",
      " 0   Company_Name       30 non-null     object \n",
      " 1   MeanOpen           30 non-null     float64\n",
      " 2   MeanHigh           30 non-null     float64\n",
      " 3   MeanLow            30 non-null     float64\n",
      " 4   MeanClose          30 non-null     float64\n",
      " 5   MeanVolume         30 non-null     float64\n",
      " 6   MeanPercentReturn  30 non-null     float64\n",
      " 7   Sector             30 non-null     object \n",
      "dtypes: float64(6), object(2)\n",
      "memory usage: 2.1+ KB\n"
     ]
    }
   ],
   "source": [
    "# Get the information on the DataFrame\n",
    "df_stocks.info()"
   ]
  },
  {
   "cell_type": "markdown",
   "metadata": {},
   "source": [
    "### Step 2: Scale the `df_stocks` DataFrame and create a new DataFrame that contains the scaled data. "
   ]
  },
  {
   "cell_type": "code",
   "execution_count": 5,
   "metadata": {},
   "outputs": [],
   "source": [
    "# Use the standard scaler, fit_transform to scale the numerical columns. \n",
    "stock_data_scaled = StandardScaler().fit_transform(df_stocks[[\"MeanOpen\", \"MeanHigh\", \"MeanLow\", \"MeanClose\", \"MeanVolume\", \"MeanPercentReturn\"]])"
   ]
  },
  {
   "cell_type": "code",
   "execution_count": 6,
   "metadata": {},
   "outputs": [
    {
     "data": {
      "text/html": [
       "<div>\n",
       "<style scoped>\n",
       "    .dataframe tbody tr th:only-of-type {\n",
       "        vertical-align: middle;\n",
       "    }\n",
       "\n",
       "    .dataframe tbody tr th {\n",
       "        vertical-align: top;\n",
       "    }\n",
       "\n",
       "    .dataframe thead th {\n",
       "        text-align: right;\n",
       "    }\n",
       "</style>\n",
       "<table border=\"1\" class=\"dataframe\">\n",
       "  <thead>\n",
       "    <tr style=\"text-align: right;\">\n",
       "      <th></th>\n",
       "      <th>MeanOpen</th>\n",
       "      <th>MeanHigh</th>\n",
       "      <th>MeanLow</th>\n",
       "      <th>MeanClose</th>\n",
       "      <th>MeanVolume</th>\n",
       "      <th>MeanPercentReturn</th>\n",
       "    </tr>\n",
       "    <tr>\n",
       "      <th>Ticker</th>\n",
       "      <th></th>\n",
       "      <th></th>\n",
       "      <th></th>\n",
       "      <th></th>\n",
       "      <th></th>\n",
       "      <th></th>\n",
       "    </tr>\n",
       "  </thead>\n",
       "  <tbody>\n",
       "    <tr>\n",
       "      <th>AA</th>\n",
       "      <td>-1.158886</td>\n",
       "      <td>-1.153217</td>\n",
       "      <td>-1.159624</td>\n",
       "      <td>-1.153417</td>\n",
       "      <td>0.103184</td>\n",
       "      <td>-1.610917</td>\n",
       "    </tr>\n",
       "    <tr>\n",
       "      <th>AXP</th>\n",
       "      <td>-0.261157</td>\n",
       "      <td>-0.254393</td>\n",
       "      <td>-0.265739</td>\n",
       "      <td>-0.258185</td>\n",
       "      <td>-0.539199</td>\n",
       "      <td>-0.919042</td>\n",
       "    </tr>\n",
       "    <tr>\n",
       "      <th>BA</th>\n",
       "      <td>0.575177</td>\n",
       "      <td>0.580564</td>\n",
       "      <td>0.564695</td>\n",
       "      <td>0.578916</td>\n",
       "      <td>-0.615824</td>\n",
       "      <td>-0.329342</td>\n",
       "    </tr>\n",
       "    <tr>\n",
       "      <th>BAC</th>\n",
       "      <td>-1.229631</td>\n",
       "      <td>-1.224851</td>\n",
       "      <td>-1.230018</td>\n",
       "      <td>-1.225585</td>\n",
       "      <td>4.361945</td>\n",
       "      <td>-1.960402</td>\n",
       "    </tr>\n",
       "    <tr>\n",
       "      <th>CAT</th>\n",
       "      <td>1.494216</td>\n",
       "      <td>1.505195</td>\n",
       "      <td>1.467062</td>\n",
       "      <td>1.500534</td>\n",
       "      <td>-0.586091</td>\n",
       "      <td>-0.800586</td>\n",
       "    </tr>\n",
       "  </tbody>\n",
       "</table>\n",
       "</div>"
      ],
      "text/plain": [
       "        MeanOpen  MeanHigh   MeanLow  MeanClose  MeanVolume  MeanPercentReturn\n",
       "Ticker                                                                        \n",
       "AA     -1.158886 -1.153217 -1.159624  -1.153417    0.103184          -1.610917\n",
       "AXP    -0.261157 -0.254393 -0.265739  -0.258185   -0.539199          -0.919042\n",
       "BA      0.575177  0.580564  0.564695   0.578916   -0.615824          -0.329342\n",
       "BAC    -1.229631 -1.224851 -1.230018  -1.225585    4.361945          -1.960402\n",
       "CAT     1.494216  1.505195  1.467062   1.500534   -0.586091          -0.800586"
      ]
     },
     "execution_count": 6,
     "metadata": {},
     "output_type": "execute_result"
    }
   ],
   "source": [
    "# Create a DataFrame called with the scaled data\n",
    "# The column names should match those referenced in the StandardScaler step\n",
    "df_stocks_scaled = pd.DataFrame(\n",
    "    stock_data_scaled,\n",
    "    columns=[\"MeanOpen\", \"MeanHigh\", \"MeanLow\", \"MeanClose\", \"MeanVolume\", \"MeanPercentReturn\"]\n",
    ")\n",
    "\n",
    "# Create a Ticker column in the df_stocks_scaled DataFrame\n",
    "# using the index of the original df_stocks DataFrame\n",
    "df_stocks_scaled[\"Ticker\"] = df_stocks.index\n",
    "\n",
    "# Set the newly created Ticker column as index of the df_stocks_scaled DataFrame\n",
    "df_stocks_scaled = df_stocks_scaled.set_index(\"Ticker\")\n",
    "\n",
    "# Review the DataFrame\n",
    "df_stocks_scaled.head()"
   ]
  },
  {
   "cell_type": "code",
   "execution_count": 7,
   "metadata": {},
   "outputs": [
    {
     "data": {
      "text/html": [
       "<div>\n",
       "<style scoped>\n",
       "    .dataframe tbody tr th:only-of-type {\n",
       "        vertical-align: middle;\n",
       "    }\n",
       "\n",
       "    .dataframe tbody tr th {\n",
       "        vertical-align: top;\n",
       "    }\n",
       "\n",
       "    .dataframe thead th {\n",
       "        text-align: right;\n",
       "    }\n",
       "</style>\n",
       "<table border=\"1\" class=\"dataframe\">\n",
       "  <thead>\n",
       "    <tr style=\"text-align: right;\">\n",
       "      <th></th>\n",
       "      <th>Communication</th>\n",
       "      <th>Consumer Discretionary</th>\n",
       "      <th>Consumer Staples</th>\n",
       "      <th>Energy</th>\n",
       "      <th>Financials</th>\n",
       "      <th>Health Care</th>\n",
       "      <th>Industrials</th>\n",
       "      <th>Information Technology</th>\n",
       "    </tr>\n",
       "    <tr>\n",
       "      <th>Ticker</th>\n",
       "      <th></th>\n",
       "      <th></th>\n",
       "      <th></th>\n",
       "      <th></th>\n",
       "      <th></th>\n",
       "      <th></th>\n",
       "      <th></th>\n",
       "      <th></th>\n",
       "    </tr>\n",
       "  </thead>\n",
       "  <tbody>\n",
       "    <tr>\n",
       "      <th>AA</th>\n",
       "      <td>False</td>\n",
       "      <td>False</td>\n",
       "      <td>False</td>\n",
       "      <td>False</td>\n",
       "      <td>False</td>\n",
       "      <td>False</td>\n",
       "      <td>True</td>\n",
       "      <td>False</td>\n",
       "    </tr>\n",
       "    <tr>\n",
       "      <th>AXP</th>\n",
       "      <td>False</td>\n",
       "      <td>False</td>\n",
       "      <td>False</td>\n",
       "      <td>False</td>\n",
       "      <td>True</td>\n",
       "      <td>False</td>\n",
       "      <td>False</td>\n",
       "      <td>False</td>\n",
       "    </tr>\n",
       "    <tr>\n",
       "      <th>BA</th>\n",
       "      <td>False</td>\n",
       "      <td>False</td>\n",
       "      <td>False</td>\n",
       "      <td>False</td>\n",
       "      <td>False</td>\n",
       "      <td>False</td>\n",
       "      <td>True</td>\n",
       "      <td>False</td>\n",
       "    </tr>\n",
       "    <tr>\n",
       "      <th>BAC</th>\n",
       "      <td>False</td>\n",
       "      <td>False</td>\n",
       "      <td>False</td>\n",
       "      <td>False</td>\n",
       "      <td>True</td>\n",
       "      <td>False</td>\n",
       "      <td>False</td>\n",
       "      <td>False</td>\n",
       "    </tr>\n",
       "    <tr>\n",
       "      <th>CAT</th>\n",
       "      <td>False</td>\n",
       "      <td>False</td>\n",
       "      <td>False</td>\n",
       "      <td>False</td>\n",
       "      <td>False</td>\n",
       "      <td>False</td>\n",
       "      <td>True</td>\n",
       "      <td>False</td>\n",
       "    </tr>\n",
       "  </tbody>\n",
       "</table>\n",
       "</div>"
      ],
      "text/plain": [
       "        Communication  Consumer Discretionary  Consumer Staples  Energy  \\\n",
       "Ticker                                                                    \n",
       "AA              False                   False             False   False   \n",
       "AXP             False                   False             False   False   \n",
       "BA              False                   False             False   False   \n",
       "BAC             False                   False             False   False   \n",
       "CAT             False                   False             False   False   \n",
       "\n",
       "        Financials  Health Care  Industrials  Information Technology  \n",
       "Ticker                                                                \n",
       "AA           False        False         True                   False  \n",
       "AXP           True        False        False                   False  \n",
       "BA           False        False         True                   False  \n",
       "BAC           True        False        False                   False  \n",
       "CAT          False        False         True                   False  "
      ]
     },
     "execution_count": 7,
     "metadata": {},
     "output_type": "execute_result"
    }
   ],
   "source": [
    "# Encode the Sector column\n",
    "sector_encoded_df = pd.get_dummies(df_stocks[\"Sector\"])\n",
    "\n",
    "# Review the DataFrame\n",
    "sector_encoded_df.head()"
   ]
  },
  {
   "cell_type": "code",
   "execution_count": 8,
   "metadata": {},
   "outputs": [
    {
     "data": {
      "text/html": [
       "<div>\n",
       "<style scoped>\n",
       "    .dataframe tbody tr th:only-of-type {\n",
       "        vertical-align: middle;\n",
       "    }\n",
       "\n",
       "    .dataframe tbody tr th {\n",
       "        vertical-align: top;\n",
       "    }\n",
       "\n",
       "    .dataframe thead th {\n",
       "        text-align: right;\n",
       "    }\n",
       "</style>\n",
       "<table border=\"1\" class=\"dataframe\">\n",
       "  <thead>\n",
       "    <tr style=\"text-align: right;\">\n",
       "      <th></th>\n",
       "      <th>MeanOpen</th>\n",
       "      <th>MeanHigh</th>\n",
       "      <th>MeanLow</th>\n",
       "      <th>MeanClose</th>\n",
       "      <th>MeanVolume</th>\n",
       "      <th>MeanPercentReturn</th>\n",
       "      <th>Communication</th>\n",
       "      <th>Consumer Discretionary</th>\n",
       "      <th>Consumer Staples</th>\n",
       "      <th>Energy</th>\n",
       "      <th>Financials</th>\n",
       "      <th>Health Care</th>\n",
       "      <th>Industrials</th>\n",
       "      <th>Information Technology</th>\n",
       "    </tr>\n",
       "    <tr>\n",
       "      <th>Ticker</th>\n",
       "      <th></th>\n",
       "      <th></th>\n",
       "      <th></th>\n",
       "      <th></th>\n",
       "      <th></th>\n",
       "      <th></th>\n",
       "      <th></th>\n",
       "      <th></th>\n",
       "      <th></th>\n",
       "      <th></th>\n",
       "      <th></th>\n",
       "      <th></th>\n",
       "      <th></th>\n",
       "      <th></th>\n",
       "    </tr>\n",
       "  </thead>\n",
       "  <tbody>\n",
       "    <tr>\n",
       "      <th>AA</th>\n",
       "      <td>-1.158886</td>\n",
       "      <td>-1.153217</td>\n",
       "      <td>-1.159624</td>\n",
       "      <td>-1.153417</td>\n",
       "      <td>0.103184</td>\n",
       "      <td>-1.610917</td>\n",
       "      <td>False</td>\n",
       "      <td>False</td>\n",
       "      <td>False</td>\n",
       "      <td>False</td>\n",
       "      <td>False</td>\n",
       "      <td>False</td>\n",
       "      <td>True</td>\n",
       "      <td>False</td>\n",
       "    </tr>\n",
       "    <tr>\n",
       "      <th>AXP</th>\n",
       "      <td>-0.261157</td>\n",
       "      <td>-0.254393</td>\n",
       "      <td>-0.265739</td>\n",
       "      <td>-0.258185</td>\n",
       "      <td>-0.539199</td>\n",
       "      <td>-0.919042</td>\n",
       "      <td>False</td>\n",
       "      <td>False</td>\n",
       "      <td>False</td>\n",
       "      <td>False</td>\n",
       "      <td>True</td>\n",
       "      <td>False</td>\n",
       "      <td>False</td>\n",
       "      <td>False</td>\n",
       "    </tr>\n",
       "    <tr>\n",
       "      <th>BA</th>\n",
       "      <td>0.575177</td>\n",
       "      <td>0.580564</td>\n",
       "      <td>0.564695</td>\n",
       "      <td>0.578916</td>\n",
       "      <td>-0.615824</td>\n",
       "      <td>-0.329342</td>\n",
       "      <td>False</td>\n",
       "      <td>False</td>\n",
       "      <td>False</td>\n",
       "      <td>False</td>\n",
       "      <td>False</td>\n",
       "      <td>False</td>\n",
       "      <td>True</td>\n",
       "      <td>False</td>\n",
       "    </tr>\n",
       "    <tr>\n",
       "      <th>BAC</th>\n",
       "      <td>-1.229631</td>\n",
       "      <td>-1.224851</td>\n",
       "      <td>-1.230018</td>\n",
       "      <td>-1.225585</td>\n",
       "      <td>4.361945</td>\n",
       "      <td>-1.960402</td>\n",
       "      <td>False</td>\n",
       "      <td>False</td>\n",
       "      <td>False</td>\n",
       "      <td>False</td>\n",
       "      <td>True</td>\n",
       "      <td>False</td>\n",
       "      <td>False</td>\n",
       "      <td>False</td>\n",
       "    </tr>\n",
       "    <tr>\n",
       "      <th>CAT</th>\n",
       "      <td>1.494216</td>\n",
       "      <td>1.505195</td>\n",
       "      <td>1.467062</td>\n",
       "      <td>1.500534</td>\n",
       "      <td>-0.586091</td>\n",
       "      <td>-0.800586</td>\n",
       "      <td>False</td>\n",
       "      <td>False</td>\n",
       "      <td>False</td>\n",
       "      <td>False</td>\n",
       "      <td>False</td>\n",
       "      <td>False</td>\n",
       "      <td>True</td>\n",
       "      <td>False</td>\n",
       "    </tr>\n",
       "  </tbody>\n",
       "</table>\n",
       "</div>"
      ],
      "text/plain": [
       "        MeanOpen  MeanHigh   MeanLow  MeanClose  MeanVolume  \\\n",
       "Ticker                                                        \n",
       "AA     -1.158886 -1.153217 -1.159624  -1.153417    0.103184   \n",
       "AXP    -0.261157 -0.254393 -0.265739  -0.258185   -0.539199   \n",
       "BA      0.575177  0.580564  0.564695   0.578916   -0.615824   \n",
       "BAC    -1.229631 -1.224851 -1.230018  -1.225585    4.361945   \n",
       "CAT     1.494216  1.505195  1.467062   1.500534   -0.586091   \n",
       "\n",
       "        MeanPercentReturn  Communication  Consumer Discretionary  \\\n",
       "Ticker                                                             \n",
       "AA              -1.610917          False                   False   \n",
       "AXP             -0.919042          False                   False   \n",
       "BA              -0.329342          False                   False   \n",
       "BAC             -1.960402          False                   False   \n",
       "CAT             -0.800586          False                   False   \n",
       "\n",
       "        Consumer Staples  Energy  Financials  Health Care  Industrials  \\\n",
       "Ticker                                                                   \n",
       "AA                 False   False       False        False         True   \n",
       "AXP                False   False        True        False        False   \n",
       "BA                 False   False       False        False         True   \n",
       "BAC                False   False        True        False        False   \n",
       "CAT                False   False       False        False         True   \n",
       "\n",
       "        Information Technology  \n",
       "Ticker                          \n",
       "AA                       False  \n",
       "AXP                      False  \n",
       "BA                       False  \n",
       "BAC                      False  \n",
       "CAT                      False  "
      ]
     },
     "execution_count": 8,
     "metadata": {},
     "output_type": "execute_result"
    }
   ],
   "source": [
    "# Concatenate the `Sector` encoded DataFrame with the scaled data DataFrame\n",
    "scaled_encoded_stocks = pd.concat([df_stocks_scaled, sector_encoded_df], axis=1)\n",
    "\n",
    "# Display the sample data\n",
    "scaled_encoded_stocks.head()"
   ]
  },
  {
   "cell_type": "markdown",
   "metadata": {},
   "source": [
    "### Step 3: Initialize the K-means model with three clusters and then fit the `df_stocks_scaled` DataFrame to the model."
   ]
  },
  {
   "cell_type": "code",
   "execution_count": 9,
   "metadata": {},
   "outputs": [
    {
     "data": {
      "text/html": [
       "<style>#sk-container-id-1 {color: black;}#sk-container-id-1 pre{padding: 0;}#sk-container-id-1 div.sk-toggleable {background-color: white;}#sk-container-id-1 label.sk-toggleable__label {cursor: pointer;display: block;width: 100%;margin-bottom: 0;padding: 0.3em;box-sizing: border-box;text-align: center;}#sk-container-id-1 label.sk-toggleable__label-arrow:before {content: \"▸\";float: left;margin-right: 0.25em;color: #696969;}#sk-container-id-1 label.sk-toggleable__label-arrow:hover:before {color: black;}#sk-container-id-1 div.sk-estimator:hover label.sk-toggleable__label-arrow:before {color: black;}#sk-container-id-1 div.sk-toggleable__content {max-height: 0;max-width: 0;overflow: hidden;text-align: left;background-color: #f0f8ff;}#sk-container-id-1 div.sk-toggleable__content pre {margin: 0.2em;color: black;border-radius: 0.25em;background-color: #f0f8ff;}#sk-container-id-1 input.sk-toggleable__control:checked~div.sk-toggleable__content {max-height: 200px;max-width: 100%;overflow: auto;}#sk-container-id-1 input.sk-toggleable__control:checked~label.sk-toggleable__label-arrow:before {content: \"▾\";}#sk-container-id-1 div.sk-estimator input.sk-toggleable__control:checked~label.sk-toggleable__label {background-color: #d4ebff;}#sk-container-id-1 div.sk-label input.sk-toggleable__control:checked~label.sk-toggleable__label {background-color: #d4ebff;}#sk-container-id-1 input.sk-hidden--visually {border: 0;clip: rect(1px 1px 1px 1px);clip: rect(1px, 1px, 1px, 1px);height: 1px;margin: -1px;overflow: hidden;padding: 0;position: absolute;width: 1px;}#sk-container-id-1 div.sk-estimator {font-family: monospace;background-color: #f0f8ff;border: 1px dotted black;border-radius: 0.25em;box-sizing: border-box;margin-bottom: 0.5em;}#sk-container-id-1 div.sk-estimator:hover {background-color: #d4ebff;}#sk-container-id-1 div.sk-parallel-item::after {content: \"\";width: 100%;border-bottom: 1px solid gray;flex-grow: 1;}#sk-container-id-1 div.sk-label:hover label.sk-toggleable__label {background-color: #d4ebff;}#sk-container-id-1 div.sk-serial::before {content: \"\";position: absolute;border-left: 1px solid gray;box-sizing: border-box;top: 0;bottom: 0;left: 50%;z-index: 0;}#sk-container-id-1 div.sk-serial {display: flex;flex-direction: column;align-items: center;background-color: white;padding-right: 0.2em;padding-left: 0.2em;position: relative;}#sk-container-id-1 div.sk-item {position: relative;z-index: 1;}#sk-container-id-1 div.sk-parallel {display: flex;align-items: stretch;justify-content: center;background-color: white;position: relative;}#sk-container-id-1 div.sk-item::before, #sk-container-id-1 div.sk-parallel-item::before {content: \"\";position: absolute;border-left: 1px solid gray;box-sizing: border-box;top: 0;bottom: 0;left: 50%;z-index: -1;}#sk-container-id-1 div.sk-parallel-item {display: flex;flex-direction: column;z-index: 1;position: relative;background-color: white;}#sk-container-id-1 div.sk-parallel-item:first-child::after {align-self: flex-end;width: 50%;}#sk-container-id-1 div.sk-parallel-item:last-child::after {align-self: flex-start;width: 50%;}#sk-container-id-1 div.sk-parallel-item:only-child::after {width: 0;}#sk-container-id-1 div.sk-dashed-wrapped {border: 1px dashed gray;margin: 0 0.4em 0.5em 0.4em;box-sizing: border-box;padding-bottom: 0.4em;background-color: white;}#sk-container-id-1 div.sk-label label {font-family: monospace;font-weight: bold;display: inline-block;line-height: 1.2em;}#sk-container-id-1 div.sk-label-container {text-align: center;}#sk-container-id-1 div.sk-container {/* jupyter's `normalize.less` sets `[hidden] { display: none; }` but bootstrap.min.css set `[hidden] { display: none !important; }` so we also need the `!important` here to be able to override the default hidden behavior on the sphinx rendered scikit-learn.org. See: https://github.com/scikit-learn/scikit-learn/issues/21755 */display: inline-block !important;position: relative;}#sk-container-id-1 div.sk-text-repr-fallback {display: none;}</style><div id=\"sk-container-id-1\" class=\"sk-top-container\"><div class=\"sk-text-repr-fallback\"><pre>KMeans(n_clusters=3, n_init=&#x27;auto&#x27;, random_state=1)</pre><b>In a Jupyter environment, please rerun this cell to show the HTML representation or trust the notebook. <br />On GitHub, the HTML representation is unable to render, please try loading this page with nbviewer.org.</b></div><div class=\"sk-container\" hidden><div class=\"sk-item\"><div class=\"sk-estimator sk-toggleable\"><input class=\"sk-toggleable__control sk-hidden--visually\" id=\"sk-estimator-id-1\" type=\"checkbox\" checked><label for=\"sk-estimator-id-1\" class=\"sk-toggleable__label sk-toggleable__label-arrow\">KMeans</label><div class=\"sk-toggleable__content\"><pre>KMeans(n_clusters=3, n_init=&#x27;auto&#x27;, random_state=1)</pre></div></div></div></div></div>"
      ],
      "text/plain": [
       "KMeans(n_clusters=3, n_init='auto', random_state=1)"
      ]
     },
     "execution_count": 9,
     "metadata": {},
     "output_type": "execute_result"
    }
   ],
   "source": [
    "# Initialize the K-Means model with n_clusters=3\n",
    "model = KMeans(n_clusters=3, n_init='auto', random_state=1)\n",
    "\n",
    "# Fit the model for the scaled_encoded_stocks DataFrame\n",
    "model.fit(scaled_encoded_stocks)"
   ]
  },
  {
   "cell_type": "markdown",
   "metadata": {},
   "source": [
    "### Step 4. Predict the clusters and then create a new DataFrame with the predicted clusters."
   ]
  },
  {
   "cell_type": "code",
   "execution_count": 10,
   "metadata": {},
   "outputs": [
    {
     "data": {
      "text/html": [
       "<div>\n",
       "<style scoped>\n",
       "    .dataframe tbody tr th:only-of-type {\n",
       "        vertical-align: middle;\n",
       "    }\n",
       "\n",
       "    .dataframe tbody tr th {\n",
       "        vertical-align: top;\n",
       "    }\n",
       "\n",
       "    .dataframe thead th {\n",
       "        text-align: right;\n",
       "    }\n",
       "</style>\n",
       "<table border=\"1\" class=\"dataframe\">\n",
       "  <thead>\n",
       "    <tr style=\"text-align: right;\">\n",
       "      <th></th>\n",
       "      <th>MeanOpen</th>\n",
       "      <th>MeanHigh</th>\n",
       "      <th>MeanLow</th>\n",
       "      <th>MeanClose</th>\n",
       "      <th>MeanVolume</th>\n",
       "      <th>MeanPercentReturn</th>\n",
       "      <th>Communication</th>\n",
       "      <th>Consumer Discretionary</th>\n",
       "      <th>Consumer Staples</th>\n",
       "      <th>Energy</th>\n",
       "      <th>Financials</th>\n",
       "      <th>Health Care</th>\n",
       "      <th>Industrials</th>\n",
       "      <th>Information Technology</th>\n",
       "      <th>StockCluster</th>\n",
       "    </tr>\n",
       "    <tr>\n",
       "      <th>Ticker</th>\n",
       "      <th></th>\n",
       "      <th></th>\n",
       "      <th></th>\n",
       "      <th></th>\n",
       "      <th></th>\n",
       "      <th></th>\n",
       "      <th></th>\n",
       "      <th></th>\n",
       "      <th></th>\n",
       "      <th></th>\n",
       "      <th></th>\n",
       "      <th></th>\n",
       "      <th></th>\n",
       "      <th></th>\n",
       "      <th></th>\n",
       "    </tr>\n",
       "  </thead>\n",
       "  <tbody>\n",
       "    <tr>\n",
       "      <th>AA</th>\n",
       "      <td>-1.158886</td>\n",
       "      <td>-1.153217</td>\n",
       "      <td>-1.159624</td>\n",
       "      <td>-1.153417</td>\n",
       "      <td>0.103184</td>\n",
       "      <td>-1.610917</td>\n",
       "      <td>False</td>\n",
       "      <td>False</td>\n",
       "      <td>False</td>\n",
       "      <td>False</td>\n",
       "      <td>False</td>\n",
       "      <td>False</td>\n",
       "      <td>True</td>\n",
       "      <td>False</td>\n",
       "      <td>1</td>\n",
       "    </tr>\n",
       "    <tr>\n",
       "      <th>AXP</th>\n",
       "      <td>-0.261157</td>\n",
       "      <td>-0.254393</td>\n",
       "      <td>-0.265739</td>\n",
       "      <td>-0.258185</td>\n",
       "      <td>-0.539199</td>\n",
       "      <td>-0.919042</td>\n",
       "      <td>False</td>\n",
       "      <td>False</td>\n",
       "      <td>False</td>\n",
       "      <td>False</td>\n",
       "      <td>True</td>\n",
       "      <td>False</td>\n",
       "      <td>False</td>\n",
       "      <td>False</td>\n",
       "      <td>2</td>\n",
       "    </tr>\n",
       "    <tr>\n",
       "      <th>BA</th>\n",
       "      <td>0.575177</td>\n",
       "      <td>0.580564</td>\n",
       "      <td>0.564695</td>\n",
       "      <td>0.578916</td>\n",
       "      <td>-0.615824</td>\n",
       "      <td>-0.329342</td>\n",
       "      <td>False</td>\n",
       "      <td>False</td>\n",
       "      <td>False</td>\n",
       "      <td>False</td>\n",
       "      <td>False</td>\n",
       "      <td>False</td>\n",
       "      <td>True</td>\n",
       "      <td>False</td>\n",
       "      <td>2</td>\n",
       "    </tr>\n",
       "    <tr>\n",
       "      <th>BAC</th>\n",
       "      <td>-1.229631</td>\n",
       "      <td>-1.224851</td>\n",
       "      <td>-1.230018</td>\n",
       "      <td>-1.225585</td>\n",
       "      <td>4.361945</td>\n",
       "      <td>-1.960402</td>\n",
       "      <td>False</td>\n",
       "      <td>False</td>\n",
       "      <td>False</td>\n",
       "      <td>False</td>\n",
       "      <td>True</td>\n",
       "      <td>False</td>\n",
       "      <td>False</td>\n",
       "      <td>False</td>\n",
       "      <td>1</td>\n",
       "    </tr>\n",
       "    <tr>\n",
       "      <th>CAT</th>\n",
       "      <td>1.494216</td>\n",
       "      <td>1.505195</td>\n",
       "      <td>1.467062</td>\n",
       "      <td>1.500534</td>\n",
       "      <td>-0.586091</td>\n",
       "      <td>-0.800586</td>\n",
       "      <td>False</td>\n",
       "      <td>False</td>\n",
       "      <td>False</td>\n",
       "      <td>False</td>\n",
       "      <td>False</td>\n",
       "      <td>False</td>\n",
       "      <td>True</td>\n",
       "      <td>False</td>\n",
       "      <td>2</td>\n",
       "    </tr>\n",
       "  </tbody>\n",
       "</table>\n",
       "</div>"
      ],
      "text/plain": [
       "        MeanOpen  MeanHigh   MeanLow  MeanClose  MeanVolume  \\\n",
       "Ticker                                                        \n",
       "AA     -1.158886 -1.153217 -1.159624  -1.153417    0.103184   \n",
       "AXP    -0.261157 -0.254393 -0.265739  -0.258185   -0.539199   \n",
       "BA      0.575177  0.580564  0.564695   0.578916   -0.615824   \n",
       "BAC    -1.229631 -1.224851 -1.230018  -1.225585    4.361945   \n",
       "CAT     1.494216  1.505195  1.467062   1.500534   -0.586091   \n",
       "\n",
       "        MeanPercentReturn  Communication  Consumer Discretionary  \\\n",
       "Ticker                                                             \n",
       "AA              -1.610917          False                   False   \n",
       "AXP             -0.919042          False                   False   \n",
       "BA              -0.329342          False                   False   \n",
       "BAC             -1.960402          False                   False   \n",
       "CAT             -0.800586          False                   False   \n",
       "\n",
       "        Consumer Staples  Energy  Financials  Health Care  Industrials  \\\n",
       "Ticker                                                                   \n",
       "AA                 False   False       False        False         True   \n",
       "AXP                False   False        True        False        False   \n",
       "BA                 False   False       False        False         True   \n",
       "BAC                False   False        True        False        False   \n",
       "CAT                False   False       False        False         True   \n",
       "\n",
       "        Information Technology  StockCluster  \n",
       "Ticker                                        \n",
       "AA                       False             1  \n",
       "AXP                      False             2  \n",
       "BA                       False             2  \n",
       "BAC                      False             1  \n",
       "CAT                      False             2  "
      ]
     },
     "execution_count": 10,
     "metadata": {},
     "output_type": "execute_result"
    }
   ],
   "source": [
    "# Create a copy of the scaled_encoded_stocks DataFrame and name it as stocks_scaled_predictions\n",
    "stocks_scaled_predictions = scaled_encoded_stocks.copy()\n",
    "\n",
    "# Predict the model segments (clusters)\n",
    "stock_clusters = model.predict(stocks_scaled_predictions)\n",
    "\n",
    "# Create a new column in the DataFrame with the predicted clusters\n",
    "stocks_scaled_predictions[\"StockCluster\"] = stock_clusters\n",
    "\n",
    "# Review the DataFrame\n",
    "stocks_scaled_predictions.head()"
   ]
  },
  {
   "cell_type": "markdown",
   "metadata": {},
   "source": [
    "### Step 5: Create a scatter plot to visualize the \"StockCluster\" using  \"MeanOpen\" as the x-variable and \"MeanPercentReturn\" as the y-variable.  "
   ]
  },
  {
   "cell_type": "code",
   "execution_count": 21,
   "metadata": {
    "scrolled": true
   },
   "outputs": [
    {
     "data": {
      "text/plain": [
       "<Axes: xlabel='MeanOpen', ylabel='MeanPercentReturn'>"
      ]
     },
     "execution_count": 21,
     "metadata": {},
     "output_type": "execute_result"
    },
    {
     "data": {
      "image/png": "[encoded data removed]",
      "text/plain": [
       "<Figure size 640x480 with 2 Axes>"
      ]
     },
     "metadata": {},
     "output_type": "display_data"
    }
   ],
   "source": [
    "# Create a scatter plot with x=\"MeanOpen\" and y=\"MeanPercentReturn\"\n",
    "stocks_scaled_predictions.plot.scatter(\n",
    "    x=\"MeanOpen\",\n",
    "    y=\"MeanPercentReturn\",\n",
    "    c=\"StockCluster\",\n",
    "    colormap='rainbow')"
   ]
  },
  {
   "cell_type": "markdown",
   "metadata": {},
   "source": [
    "### Step 6: Reduce the number of features to two principal components on the `df_stocks_scaled` DataFrame, and  calculate the explained variance ratio that results from the PCA data."
   ]
  },
  {
   "cell_type": "code",
   "execution_count": 12,
   "metadata": {},
   "outputs": [],
   "source": [
    "# Create the PCA model instance where n_components=2\n",
    "pca = PCA(n_components=2)"
   ]
  },
  {
   "cell_type": "code",
   "execution_count": 13,
   "metadata": {},
   "outputs": [
    {
     "data": {
      "text/plain": [
       "array([[-2.12035558,  1.15101959],\n",
       "       [-0.31116245,  0.52602554],\n",
       "       [ 1.31615443,  0.12678991],\n",
       "       [-3.56363597,  3.65172313],\n",
       "       [ 3.07649932,  0.73306712]])"
      ]
     },
     "execution_count": 13,
     "metadata": {},
     "output_type": "execute_result"
    }
   ],
   "source": [
    "# Fit the scaled_encoded_stocks data to the PCA\n",
    "stocks_pca_data = pca.fit_transform(scaled_encoded_stocks)\n",
    "\n",
    "# Review the first five rose of the PCA data\n",
    "# using bracket notation ([0:5])\n",
    "stocks_pca_data[:5]"
   ]
  },
  {
   "cell_type": "code",
   "execution_count": 14,
   "metadata": {},
   "outputs": [
    {
     "data": {
      "text/plain": [
       "array([0.63692415, 0.19097545])"
      ]
     },
     "execution_count": 14,
     "metadata": {},
     "output_type": "execute_result"
    }
   ],
   "source": [
    "# Calculate the explained variance\n",
    "pca.explained_variance_ratio_"
   ]
  },
  {
   "cell_type": "markdown",
   "metadata": {},
   "source": [
    "### Step 7: Use the calculate PCA DataFrame in Step 6 to create a new DataFrame called, `df_stocks_pca`, then add an additional column to the `df_stocks_pca` DataFrame that contains the tickers from the original `df_stocks` DataFrame."
   ]
  },
  {
   "cell_type": "code",
   "execution_count": 15,
   "metadata": {},
   "outputs": [
    {
     "data": {
      "text/html": [
       "<div>\n",
       "<style scoped>\n",
       "    .dataframe tbody tr th:only-of-type {\n",
       "        vertical-align: middle;\n",
       "    }\n",
       "\n",
       "    .dataframe tbody tr th {\n",
       "        vertical-align: top;\n",
       "    }\n",
       "\n",
       "    .dataframe thead th {\n",
       "        text-align: right;\n",
       "    }\n",
       "</style>\n",
       "<table border=\"1\" class=\"dataframe\">\n",
       "  <thead>\n",
       "    <tr style=\"text-align: right;\">\n",
       "      <th></th>\n",
       "      <th>PCA1</th>\n",
       "      <th>PCA2</th>\n",
       "    </tr>\n",
       "    <tr>\n",
       "      <th>Ticker</th>\n",
       "      <th></th>\n",
       "      <th></th>\n",
       "    </tr>\n",
       "  </thead>\n",
       "  <tbody>\n",
       "    <tr>\n",
       "      <th>AA</th>\n",
       "      <td>-2.120356</td>\n",
       "      <td>1.151020</td>\n",
       "    </tr>\n",
       "    <tr>\n",
       "      <th>AXP</th>\n",
       "      <td>-0.311162</td>\n",
       "      <td>0.526026</td>\n",
       "    </tr>\n",
       "    <tr>\n",
       "      <th>BA</th>\n",
       "      <td>1.316154</td>\n",
       "      <td>0.126790</td>\n",
       "    </tr>\n",
       "    <tr>\n",
       "      <th>BAC</th>\n",
       "      <td>-3.563636</td>\n",
       "      <td>3.651723</td>\n",
       "    </tr>\n",
       "    <tr>\n",
       "      <th>CAT</th>\n",
       "      <td>3.076499</td>\n",
       "      <td>0.733067</td>\n",
       "    </tr>\n",
       "  </tbody>\n",
       "</table>\n",
       "</div>"
      ],
      "text/plain": [
       "            PCA1      PCA2\n",
       "Ticker                    \n",
       "AA     -2.120356  1.151020\n",
       "AXP    -0.311162  0.526026\n",
       "BA      1.316154  0.126790\n",
       "BAC    -3.563636  3.651723\n",
       "CAT     3.076499  0.733067"
      ]
     },
     "execution_count": 15,
     "metadata": {},
     "output_type": "execute_result"
    }
   ],
   "source": [
    "# Creating a DataFrame with the PCA data\n",
    "df_stocks_pca = pd.DataFrame(stocks_pca_data, columns=[\"PCA1\", \"PCA2\"])\n",
    "\n",
    "# Copy the tickers names from the original data\n",
    "df_stocks_pca[\"Ticker\"] = df_stocks.index\n",
    "\n",
    "# Set the Ticker column as index\n",
    "df_stocks_pca = df_stocks_pca.set_index(\"Ticker\")\n",
    "\n",
    "# Review the DataFrame\n",
    "df_stocks_pca.head()"
   ]
  },
  {
   "cell_type": "markdown",
   "metadata": {},
   "source": [
    "### Step 8: Rerun the K-means algorithm on the `df_stocks_pca` DataFrame and create a scatter plot using the  \"StockCluster\" and the two principal components for the x- and y-axes. Be sure to style and format your plot."
   ]
  },
  {
   "cell_type": "code",
   "execution_count": 16,
   "metadata": {},
   "outputs": [],
   "source": [
    "# Initialize the K-Means model with n_clusters=3\n",
    "model = KMeans(n_clusters=3, n_init='auto', random_state=1)\n",
    "\n",
    "# Fit the model for the df_stocks_pca DataFrame\n",
    "model.fit(df_stocks_pca)\n",
    "\n",
    "# Predict the model segments (clusters)\n",
    "stock_clusters = model.predict(df_stocks_pca)"
   ]
  },
  {
   "cell_type": "code",
   "execution_count": 17,
   "metadata": {},
   "outputs": [
    {
     "data": {
      "text/html": [
       "<div>\n",
       "<style scoped>\n",
       "    .dataframe tbody tr th:only-of-type {\n",
       "        vertical-align: middle;\n",
       "    }\n",
       "\n",
       "    .dataframe tbody tr th {\n",
       "        vertical-align: top;\n",
       "    }\n",
       "\n",
       "    .dataframe thead th {\n",
       "        text-align: right;\n",
       "    }\n",
       "</style>\n",
       "<table border=\"1\" class=\"dataframe\">\n",
       "  <thead>\n",
       "    <tr style=\"text-align: right;\">\n",
       "      <th></th>\n",
       "      <th>PCA1</th>\n",
       "      <th>PCA2</th>\n",
       "      <th>StockCluster</th>\n",
       "    </tr>\n",
       "    <tr>\n",
       "      <th>Ticker</th>\n",
       "      <th></th>\n",
       "      <th></th>\n",
       "      <th></th>\n",
       "    </tr>\n",
       "  </thead>\n",
       "  <tbody>\n",
       "    <tr>\n",
       "      <th>AA</th>\n",
       "      <td>-2.120356</td>\n",
       "      <td>1.151020</td>\n",
       "      <td>1</td>\n",
       "    </tr>\n",
       "    <tr>\n",
       "      <th>AXP</th>\n",
       "      <td>-0.311162</td>\n",
       "      <td>0.526026</td>\n",
       "      <td>1</td>\n",
       "    </tr>\n",
       "    <tr>\n",
       "      <th>BA</th>\n",
       "      <td>1.316154</td>\n",
       "      <td>0.126790</td>\n",
       "      <td>2</td>\n",
       "    </tr>\n",
       "    <tr>\n",
       "      <th>BAC</th>\n",
       "      <td>-3.563636</td>\n",
       "      <td>3.651723</td>\n",
       "      <td>1</td>\n",
       "    </tr>\n",
       "    <tr>\n",
       "      <th>CAT</th>\n",
       "      <td>3.076499</td>\n",
       "      <td>0.733067</td>\n",
       "      <td>2</td>\n",
       "    </tr>\n",
       "  </tbody>\n",
       "</table>\n",
       "</div>"
      ],
      "text/plain": [
       "            PCA1      PCA2  StockCluster\n",
       "Ticker                                  \n",
       "AA     -2.120356  1.151020             1\n",
       "AXP    -0.311162  0.526026             1\n",
       "BA      1.316154  0.126790             2\n",
       "BAC    -3.563636  3.651723             1\n",
       "CAT     3.076499  0.733067             2"
      ]
     },
     "execution_count": 17,
     "metadata": {},
     "output_type": "execute_result"
    }
   ],
   "source": [
    "# Create a copy of the df_stocks_pca DataFrame and name it as df_stocks_pca_predictions\n",
    "df_stocks_pca_predictions = df_stocks_pca.copy()\n",
    "\n",
    "# Create a new column in the DataFrame with the predicted clusters\n",
    "df_stocks_pca_predictions[\"StockCluster\"] = stock_clusters\n",
    "\n",
    "# Review the DataFrame\n",
    "df_stocks_pca_predictions.head()"
   ]
  },
  {
   "cell_type": "code",
   "execution_count": 22,
   "metadata": {},
   "outputs": [
    {
     "data": {
      "text/plain": [
       "<Axes: xlabel='PCA1', ylabel='PCA2'>"
      ]
     },
     "execution_count": 22,
     "metadata": {},
     "output_type": "execute_result"
    },
    {
     "data": {
      "image/png": "[encoded data removed]",
      "text/plain": [
       "<Figure size 640x480 with 2 Axes>"
      ]
     },
     "metadata": {},
     "output_type": "display_data"
    }
   ],
   "source": [
    "# Create the scatter plot with x=\"PCA1\" and y=\"PCA2\"\n",
    "df_stocks_pca_predictions.plot.scatter(\n",
    "    x=\"PCA1\",\n",
    "    y=\"PCA2\",\n",
    "    c=\"StockCluster\",\n",
    "    colormap='rainbow')"
   ]
  },
  {
   "cell_type": "markdown",
   "metadata": {},
   "source": [
    "**Question:** After visually analyzing the cluster analysis results, what is the impact of using fewer features to cluster the data using K-Means?\n",
    "\n",
    "**Answer:** We can conclude that using less features we can more clearly identify three clusters."
   ]
  },
  {
   "cell_type": "markdown",
   "metadata": {},
   "source": [
    "### Step 9. Determine which features have the strongest influence on each componen, and plot the most influencial features for each component."
   ]
  },
  {
   "cell_type": "code",
   "execution_count": 19,
   "metadata": {},
   "outputs": [
    {
     "data": {
      "text/html": [
       "<div>\n",
       "<style scoped>\n",
       "    .dataframe tbody tr th:only-of-type {\n",
       "        vertical-align: middle;\n",
       "    }\n",
       "\n",
       "    .dataframe tbody tr th {\n",
       "        vertical-align: top;\n",
       "    }\n",
       "\n",
       "    .dataframe thead th {\n",
       "        text-align: right;\n",
       "    }\n",
       "</style>\n",
       "<table border=\"1\" class=\"dataframe\">\n",
       "  <thead>\n",
       "    <tr style=\"text-align: right;\">\n",
       "      <th></th>\n",
       "      <th>PCA1</th>\n",
       "      <th>PCA2</th>\n",
       "    </tr>\n",
       "  </thead>\n",
       "  <tbody>\n",
       "    <tr>\n",
       "      <th>MeanOpen</th>\n",
       "      <td>0.475365</td>\n",
       "      <td>0.055355</td>\n",
       "    </tr>\n",
       "    <tr>\n",
       "      <th>MeanHigh</th>\n",
       "      <td>0.475310</td>\n",
       "      <td>0.058332</td>\n",
       "    </tr>\n",
       "    <tr>\n",
       "      <th>MeanLow</th>\n",
       "      <td>0.475316</td>\n",
       "      <td>0.054146</td>\n",
       "    </tr>\n",
       "    <tr>\n",
       "      <th>MeanClose</th>\n",
       "      <td>0.475312</td>\n",
       "      <td>0.056770</td>\n",
       "    </tr>\n",
       "    <tr>\n",
       "      <th>MeanVolume</th>\n",
       "      <td>-0.299926</td>\n",
       "      <td>0.508430</td>\n",
       "    </tr>\n",
       "    <tr>\n",
       "      <th>MeanPercentReturn</th>\n",
       "      <td>-0.055032</td>\n",
       "      <td>-0.817351</td>\n",
       "    </tr>\n",
       "    <tr>\n",
       "      <th>Communication</th>\n",
       "      <td>-0.010730</td>\n",
       "      <td>-0.142048</td>\n",
       "    </tr>\n",
       "    <tr>\n",
       "      <th>Consumer Discretionary</th>\n",
       "      <td>0.005024</td>\n",
       "      <td>-0.020594</td>\n",
       "    </tr>\n",
       "    <tr>\n",
       "      <th>Consumer Staples</th>\n",
       "      <td>0.004338</td>\n",
       "      <td>-0.056752</td>\n",
       "    </tr>\n",
       "    <tr>\n",
       "      <th>Energy</th>\n",
       "      <td>0.035981</td>\n",
       "      <td>0.011055</td>\n",
       "    </tr>\n",
       "    <tr>\n",
       "      <th>Financials</th>\n",
       "      <td>-0.030062</td>\n",
       "      <td>0.118033</td>\n",
       "    </tr>\n",
       "    <tr>\n",
       "      <th>Health Care</th>\n",
       "      <td>-0.023064</td>\n",
       "      <td>-0.079679</td>\n",
       "    </tr>\n",
       "    <tr>\n",
       "      <th>Industrials</th>\n",
       "      <td>0.019697</td>\n",
       "      <td>0.052261</td>\n",
       "    </tr>\n",
       "    <tr>\n",
       "      <th>Information Technology</th>\n",
       "      <td>-0.001182</td>\n",
       "      <td>0.117724</td>\n",
       "    </tr>\n",
       "  </tbody>\n",
       "</table>\n",
       "</div>"
      ],
      "text/plain": [
       "                            PCA1      PCA2\n",
       "MeanOpen                0.475365  0.055355\n",
       "MeanHigh                0.475310  0.058332\n",
       "MeanLow                 0.475316  0.054146\n",
       "MeanClose               0.475312  0.056770\n",
       "MeanVolume             -0.299926  0.508430\n",
       "MeanPercentReturn      -0.055032 -0.817351\n",
       "Communication          -0.010730 -0.142048\n",
       "Consumer Discretionary  0.005024 -0.020594\n",
       "Consumer Staples        0.004338 -0.056752\n",
       "Energy                  0.035981  0.011055\n",
       "Financials             -0.030062  0.118033\n",
       "Health Care            -0.023064 -0.079679\n",
       "Industrials             0.019697  0.052261\n",
       "Information Technology -0.001182  0.117724"
      ]
     },
     "execution_count": 19,
     "metadata": {},
     "output_type": "execute_result"
    }
   ],
   "source": [
    "# Use the columns from the scaled and encoded DataFrame in step 2.\n",
    "pca_component_weights = pd.DataFrame(pca.components_.T, columns=['PCA1', 'PCA2'], index=scaled_encoded_stocks.columns)\n",
    "pca_component_weights"
   ]
  },
  {
   "cell_type": "markdown",
   "metadata": {},
   "source": [
    "### Which features have the strongest influence on each component? \n",
    "--- \n",
    "**Answer:** \n",
    "- \"MeanOpen\", \"MeanHigh\", \"MeanLow\", and \"MeanClose\" have the strongest positive influence on PCA1. \n",
    "- \"MeanVolume\" has the strongest positive influence on PCA2."
   ]
  },
  {
   "cell_type": "markdown",
   "metadata": {},
   "source": [
    "### Step 10: Create a scatterplot of the most influential features for each principal component and stock cluster."
   ]
  },
  {
   "cell_type": "code",
   "execution_count": 23,
   "metadata": {
    "scrolled": true
   },
   "outputs": [
    {
     "data": {
      "text/plain": [
       "<Axes: xlabel='MeanOpen', ylabel='MeanVolume'>"
      ]
     },
     "execution_count": 23,
     "metadata": {},
     "output_type": "execute_result"
    },
    {
     "data": {
      "image/png": "[encoded data removed]",
      "text/plain": [
       "<Figure size 640x480 with 2 Axes>"
      ]
     },
     "metadata": {},
     "output_type": "display_data"
    }
   ],
   "source": [
    "# Plot the features that have the strongest influence on each component. \n",
    "stocks_scaled_predictions.plot.scatter(\n",
    "    x=\"MeanOpen\",\n",
    "    y=\"MeanVolume\",\n",
    "    c=\"StockCluster\",\n",
    "    colormap='rainbow')"
   ]
  },
  {
   "cell_type": "markdown",
   "metadata": {},
   "source": [
    "### Step 11: What is the difference between the segmentation results of the PCA DataFrame and most influential features for each component? "
   ]
  },
  {
   "cell_type": "markdown",
   "metadata": {},
   "source": [
    "**Answer:** It appears that the most influential features for each component are; \"MeanHigh\" and \"MeanVolume\", however, plotting these features does not yield similar results as plotting each principal component. Suggesting that more than one feature is influencing one or principal components. "
   ]
  },
  {
   "cell_type": "code",
   "execution_count": null,
   "metadata": {},
   "outputs": [],
   "source": []
  }
 ],
 "metadata": {
  "kernelspec": {
   "display_name": "Python 3 (ipykernel)",
   "language": "python",
   "name": "python3"
  },
  "language_info": {
   "codemirror_mode": {
    "name": "ipython",
    "version": 3
   },
   "file_extension": ".py",
   "mimetype": "text/x-python",
   "name": "python",
   "nbconvert_exporter": "python",
   "pygments_lexer": "ipython3",
   "version": "3.10.13"
  }
 },
 "nbformat": 4,
 "nbformat_minor": 4
}
